{
 "cells": [
  {
   "cell_type": "code",
   "execution_count": 1,
   "metadata": {},
   "outputs": [],
   "source": [
    "import pandas as pd"
   ]
  },
  {
   "cell_type": "code",
   "execution_count": 4,
   "metadata": {},
   "outputs": [
    {
     "data": {
      "text/html": [
       "<div>\n",
       "<style scoped>\n",
       "    .dataframe tbody tr th:only-of-type {\n",
       "        vertical-align: middle;\n",
       "    }\n",
       "\n",
       "    .dataframe tbody tr th {\n",
       "        vertical-align: top;\n",
       "    }\n",
       "\n",
       "    .dataframe thead th {\n",
       "        text-align: right;\n",
       "    }\n",
       "</style>\n",
       "<table border=\"1\" class=\"dataframe\">\n",
       "  <thead>\n",
       "    <tr style=\"text-align: right;\">\n",
       "      <th></th>\n",
       "      <th>lat-long</th>\n",
       "      <th>Null</th>\n",
       "      <th>RSSI</th>\n",
       "    </tr>\n",
       "  </thead>\n",
       "  <tbody>\n",
       "    <tr>\n",
       "      <th>0</th>\n",
       "      <td>23.2108837,72.6848205</td>\n",
       "      <td>NaN</td>\n",
       "      <td>-86</td>\n",
       "    </tr>\n",
       "    <tr>\n",
       "      <th>1</th>\n",
       "      <td>23.2113477,72.6848741</td>\n",
       "      <td>NaN</td>\n",
       "      <td>-53</td>\n",
       "    </tr>\n",
       "    <tr>\n",
       "      <th>2</th>\n",
       "      <td>23.213263,72.6833879</td>\n",
       "      <td>NaN</td>\n",
       "      <td>-55</td>\n",
       "    </tr>\n",
       "    <tr>\n",
       "      <th>3</th>\n",
       "      <td>23.2151089,72.6849741</td>\n",
       "      <td>NaN</td>\n",
       "      <td>-65</td>\n",
       "    </tr>\n",
       "    <tr>\n",
       "      <th>4</th>\n",
       "      <td>23.216815,72.6867183</td>\n",
       "      <td>NaN</td>\n",
       "      <td>-65</td>\n",
       "    </tr>\n",
       "  </tbody>\n",
       "</table>\n",
       "</div>"
      ],
      "text/plain": [
       "                lat-long  Null  RSSI\n",
       "0  23.2108837,72.6848205   NaN   -86\n",
       "1  23.2113477,72.6848741   NaN   -53\n",
       "2   23.213263,72.6833879   NaN   -55\n",
       "3  23.2151089,72.6849741   NaN   -65\n",
       "4   23.216815,72.6867183   NaN   -65"
      ]
     },
     "execution_count": 4,
     "metadata": {},
     "output_type": "execute_result"
    }
   ],
   "source": [
    "df = pd.read_csv(\"avinash.csv\")\n",
    "df.head()"
   ]
  },
  {
   "cell_type": "code",
   "execution_count": null,
   "metadata": {},
   "outputs": [],
   "source": [
    "l = []\n",
    "\n",
    "l = df[\"lat-long\"].values\n",
    "\n",
    "lat = []\n",
    "long = []\n",
    "\n",
    "for i in range(len(l)):\n",
    "    k = l[i].split(',')\n",
    "    lat.append(k[0])\n",
    "    long.append(k[1])\n",
    "\n",
    "# print(lat)\n",
    "# print(long)"
   ]
  },
  {
   "cell_type": "code",
   "execution_count": 29,
   "metadata": {},
   "outputs": [],
   "source": [
    "new_df = pd.DataFrame({'LAT':lat,'LONG':long,'RSSI':df[\"RSSI\"]})"
   ]
  },
  {
   "cell_type": "code",
   "execution_count": 31,
   "metadata": {},
   "outputs": [],
   "source": [
    "new_file = new_df.to_csv(r'RSSI.csv')"
   ]
  },
  {
   "cell_type": "code",
   "execution_count": 2,
   "metadata": {},
   "outputs": [],
   "source": [
    "new_df = pd.read_csv(\"RSSI.csv\",index_col=0)\n",
    "# new_df['LAT']=new_df['LAT'].astype('float64')\n",
    "# new_df['LONG']=new_df['LONG'].astype('float64')\n",
    "# new_df['RSSI']=new_df['RSSI'].astype('int')"
   ]
  },
  {
   "cell_type": "code",
   "execution_count": 3,
   "metadata": {},
   "outputs": [
    {
     "data": {
      "text/html": [
       "<div>\n",
       "<style scoped>\n",
       "    .dataframe tbody tr th:only-of-type {\n",
       "        vertical-align: middle;\n",
       "    }\n",
       "\n",
       "    .dataframe tbody tr th {\n",
       "        vertical-align: top;\n",
       "    }\n",
       "\n",
       "    .dataframe thead th {\n",
       "        text-align: right;\n",
       "    }\n",
       "</style>\n",
       "<table border=\"1\" class=\"dataframe\">\n",
       "  <thead>\n",
       "    <tr style=\"text-align: right;\">\n",
       "      <th></th>\n",
       "      <th>LAT</th>\n",
       "      <th>LONG</th>\n",
       "      <th>RSSI</th>\n",
       "    </tr>\n",
       "  </thead>\n",
       "  <tbody>\n",
       "    <tr>\n",
       "      <th>0</th>\n",
       "      <td>23.210884</td>\n",
       "      <td>72.684821</td>\n",
       "      <td>-86</td>\n",
       "    </tr>\n",
       "    <tr>\n",
       "      <th>1</th>\n",
       "      <td>23.211348</td>\n",
       "      <td>72.684874</td>\n",
       "      <td>-53</td>\n",
       "    </tr>\n",
       "    <tr>\n",
       "      <th>2</th>\n",
       "      <td>23.213263</td>\n",
       "      <td>72.683388</td>\n",
       "      <td>-55</td>\n",
       "    </tr>\n",
       "    <tr>\n",
       "      <th>3</th>\n",
       "      <td>23.215109</td>\n",
       "      <td>72.684974</td>\n",
       "      <td>-65</td>\n",
       "    </tr>\n",
       "    <tr>\n",
       "      <th>4</th>\n",
       "      <td>23.216815</td>\n",
       "      <td>72.686718</td>\n",
       "      <td>-65</td>\n",
       "    </tr>\n",
       "  </tbody>\n",
       "</table>\n",
       "</div>"
      ],
      "text/plain": [
       "         LAT       LONG  RSSI\n",
       "0  23.210884  72.684821   -86\n",
       "1  23.211348  72.684874   -53\n",
       "2  23.213263  72.683388   -55\n",
       "3  23.215109  72.684974   -65\n",
       "4  23.216815  72.686718   -65"
      ]
     },
     "execution_count": 3,
     "metadata": {},
     "output_type": "execute_result"
    }
   ],
   "source": [
    "new_df.head(5)"
   ]
  },
  {
   "cell_type": "code",
   "execution_count": 5,
   "metadata": {},
   "outputs": [
    {
     "data": {
      "text/plain": [
       "-51"
      ]
     },
     "execution_count": 5,
     "metadata": {},
     "output_type": "execute_result"
    }
   ],
   "source": [
    "l = new_df['RSSI'].values\n",
    "max(l)"
   ]
  },
  {
   "cell_type": "code",
   "execution_count": 62,
   "metadata": {},
   "outputs": [
    {
     "data": {
      "text/plain": [
       "'[{\"LAT\": 23.2108837, \"LONG\": 72.6848205, \"RSSI\": -86.0}, {\"LAT\": 23.211347699999997, \"LONG\": 72.68487409999999, \"RSSI\": -53.0}, {\"LAT\": 23.213263, \"LONG\": 72.68338790000001, \"RSSI\": -55.0}, {\"LAT\": 23.215108899999997, \"LONG\": 72.68497409999999, \"RSSI\": -65.0}, {\"LAT\": 23.216815, \"LONG\": 72.6867183, \"RSSI\": -65.0}, {\"LAT\": 23.2170667, \"LONG\": 72.6893417, \"RSSI\": -65.0}, {\"LAT\": 23.2166883, \"LONG\": 72.69171170000001, \"RSSI\": -61.0}, {\"LAT\": 23.2166883, \"LONG\": 72.69171170000001, \"RSSI\": -63.0}, {\"LAT\": 23.2159105, \"LONG\": 72.69099240000001, \"RSSI\": -59.0}, {\"LAT\": 23.2154087, \"LONG\": 72.6902819, \"RSSI\": -59.0}, {\"LAT\": 23.2157117, \"LONG\": 72.6889691, \"RSSI\": -57.0}, {\"LAT\": 23.2155861, \"LONG\": 72.6882291, \"RSSI\": -63.0}, {\"LAT\": 23.215270699999998, \"LONG\": 72.6877757, \"RSSI\": -65.0}, {\"LAT\": 23.214795499999997, \"LONG\": 72.6879358, \"RSSI\": -67.0}, {\"LAT\": 23.2109879, \"LONG\": 72.6857431, \"RSSI\": -91.0}, {\"LAT\": 23.2106548, \"LONG\": 72.68522320000001, \"RSSI\": -86.0}, {\"LAT\": 23.210313199999998, \"LONG\": 72.6856586, \"RSSI\": -85.0}, {\"LAT\": 23.2098417, \"LONG\": 72.68644499999999, \"RSSI\": -69.0}, {\"LAT\": 23.208805399999996, \"LONG\": 72.68682609999999, \"RSSI\": -59.0}, {\"LAT\": 23.210631399999997, \"LONG\": 72.6854441, \"RSSI\": -69.0}, {\"LAT\": 23.2075767, \"LONG\": 72.6880167, \"RSSI\": -75.0}, {\"LAT\": 23.21019, \"LONG\": 72.68699000000001, \"RSSI\": -85.0}, {\"LAT\": 23.210041699999998, \"LONG\": 72.6877233, \"RSSI\": -85.0}, {\"LAT\": 23.2103942, \"LONG\": 72.68743590000001, \"RSSI\": -85.0}, {\"LAT\": 23.210485000000002, \"LONG\": 72.68775670000001, \"RSSI\": -85.0}, {\"LAT\": 23.21048, \"LONG\": 72.68881, \"RSSI\": -86.0}, {\"LAT\": 23.1115, \"LONG\": 72.6884, \"RSSI\": -85.0}, {\"LAT\": 23.1121, \"LONG\": 72.68892, \"RSSI\": -86.0}, {\"LAT\": 23.21102, \"LONG\": 72.68921, \"RSSI\": -85.0}, {\"LAT\": 23.2108, \"LONG\": 72.68905, \"RSSI\": -85.0}, {\"LAT\": 23.21067, \"LONG\": 72.68888000000001, \"RSSI\": -85.0}, {\"LAT\": 23.21048, \"LONG\": 72.68881999999999, \"RSSI\": -85.0}, {\"LAT\": 23.21026, \"LONG\": 72.68866, \"RSSI\": -85.0}, {\"LAT\": 23.21014, \"LONG\": 72.68854, \"RSSI\": -85.0}, {\"LAT\": 23.2099, \"LONG\": 72.68843000000001, \"RSSI\": -85.0}, {\"LAT\": 23.20978, \"LONG\": 72.6883, \"RSSI\": -85.0}, {\"LAT\": 23.20961, \"LONG\": 72.68822, \"RSSI\": -75.0}, {\"LAT\": 23.20925, \"LONG\": 72.688, \"RSSI\": -65.0}, {\"LAT\": 23.209139999999998, \"LONG\": 72.68786, \"RSSI\": -61.0}, {\"LAT\": 23.209, \"LONG\": 72.68778, \"RSSI\": -63.0}, {\"LAT\": 23.20885, \"LONG\": 72.68766, \"RSSI\": -60.0}, {\"LAT\": 23.208660000000002, \"LONG\": 72.68754, \"RSSI\": -60.0}, {\"LAT\": 23.20836, \"LONG\": 72.68732, \"RSSI\": -61.0}, {\"LAT\": 23.20836, \"LONG\": 72.68732, \"RSSI\": -61.0}, {\"LAT\": 23.20779, \"LONG\": 72.68696, \"RSSI\": -61.0}, {\"LAT\": 23.20759, \"LONG\": 72.68685, \"RSSI\": -61.0}, {\"LAT\": 23.20736, \"LONG\": 72.68644, \"RSSI\": -61.0}, {\"LAT\": 23.20719, \"LONG\": 72.68606, \"RSSI\": -57.0}, {\"LAT\": 23.20713, \"LONG\": 72.68565, \"RSSI\": -57.0}, {\"LAT\": 23.20714, \"LONG\": 72.68514, \"RSSI\": -51.0}, {\"LAT\": 23.20726, \"LONG\": 72.6849, \"RSSI\": -51.0}, {\"LAT\": 23.207320000000003, \"LONG\": 72.68471, \"RSSI\": -51.0}, {\"LAT\": 23.20759, \"LONG\": 72.68406, \"RSSI\": -59.0}, {\"LAT\": 23.20787, \"LONG\": 72.68342, \"RSSI\": -55.0}, {\"LAT\": 23.20812, \"LONG\": 72.68334, \"RSSI\": -55.0}, {\"LAT\": 23.208470000000002, \"LONG\": 72.68337, \"RSSI\": -55.0}, {\"LAT\": 23.20875, \"LONG\": 72.68335, \"RSSI\": -55.0}, {\"LAT\": 23.20911, \"LONG\": 72.68335, \"RSSI\": -63.0}, {\"LAT\": 23.20942, \"LONG\": 72.68341, \"RSSI\": -57.0}, {\"LAT\": 23.20942, \"LONG\": 72.68341, \"RSSI\": -57.0}, {\"LAT\": 23.210160000000002, \"LONG\": 72.6834, \"RSSI\": -59.0}, {\"LAT\": 23.21053, \"LONG\": 72.68339, \"RSSI\": -59.0}, {\"LAT\": 23.210739999999998, \"LONG\": 72.68336, \"RSSI\": -61.0}, {\"LAT\": 23.21126, \"LONG\": 72.68347, \"RSSI\": -57.0}, {\"LAT\": 23.21126, \"LONG\": 72.68347, \"RSSI\": -57.0}, {\"LAT\": 23.211170000000003, \"LONG\": 72.68396, \"RSSI\": -63.0}, {\"LAT\": 23.21108, \"LONG\": 72.68413000000001, \"RSSI\": -63.0}, {\"LAT\": 23.21096, \"LONG\": 72.68453000000001, \"RSSI\": -85.0}, {\"LAT\": 23.21079, \"LONG\": 72.68456, \"RSSI\": -59.0}, {\"LAT\": 23.21067, \"LONG\": 72.6843, \"RSSI\": -61.0}, {\"LAT\": 23.2104, \"LONG\": 72.68448000000001, \"RSSI\": -85.0}, {\"LAT\": 23.21066, \"LONG\": 72.68471, \"RSSI\": -85.0}, {\"LAT\": 23.21078, \"LONG\": 72.68498000000001, \"RSSI\": -85.0}, {\"LAT\": 23.21114, \"LONG\": 72.68508, \"RSSI\": -69.0}, {\"LAT\": 23.21118, \"LONG\": 72.68504, \"RSSI\": -68.0}, {\"LAT\": 23.211170000000003, \"LONG\": 72.68465, \"RSSI\": -85.0}, {\"LAT\": 23.21087, \"LONG\": 72.68468, \"RSSI\": -61.0}, {\"LAT\": 23.21152, \"LONG\": 72.68432, \"RSSI\": -65.0}, {\"LAT\": 23.21196, \"LONG\": 72.68419, \"RSSI\": -59.0}, {\"LAT\": 23.21245, \"LONG\": 72.68417, \"RSSI\": -55.0}, {\"LAT\": 23.21317, \"LONG\": 72.68392, \"RSSI\": -85.0}, {\"LAT\": 23.21345, \"LONG\": 72.68418, \"RSSI\": -77.0}, {\"LAT\": 23.213520000000003, \"LONG\": 72.68437, \"RSSI\": -85.0}, {\"LAT\": 23.21369, \"LONG\": 72.6846, \"RSSI\": -85.0}, {\"LAT\": 23.21406, \"LONG\": 72.68477, \"RSSI\": -85.0}, {\"LAT\": 23.21414, \"LONG\": 72.6849, \"RSSI\": -85.0}, {\"LAT\": 23.21418, \"LONG\": 72.68508, \"RSSI\": -85.0}, {\"LAT\": 23.21434, \"LONG\": 72.68531, \"RSSI\": -85.0}, {\"LAT\": 23.21448, \"LONG\": 72.68534, \"RSSI\": -67.0}, {\"LAT\": 23.214560000000002, \"LONG\": 72.68536999999999, \"RSSI\": -65.0}, {\"LAT\": 23.214660000000002, \"LONG\": 72.68547, \"RSSI\": -61.0}, {\"LAT\": 23.21475, \"LONG\": 72.68563, \"RSSI\": -67.0}, {\"LAT\": 23.2149, \"LONG\": 72.68564, \"RSSI\": -63.0}, {\"LAT\": 23.215020000000003, \"LONG\": 72.6858, \"RSSI\": -65.0}, {\"LAT\": 23.21497, \"LONG\": 72.68598, \"RSSI\": -63.0}, {\"LAT\": 23.21446, \"LONG\": 72.68607, \"RSSI\": -61.0}, {\"LAT\": 23.2143, \"LONG\": 72.6859, \"RSSI\": -80.0}, {\"LAT\": 23.2143, \"LONG\": 72.68558, \"RSSI\": -84.0}, {\"LAT\": 23.21444, \"LONG\": 72.68534, \"RSSI\": -85.0}, {\"LAT\": 23.21442, \"LONG\": 72.68517, \"RSSI\": -86.0}]'"
      ]
     },
     "execution_count": 62,
     "metadata": {},
     "output_type": "execute_result"
    }
   ],
   "source": [
    "x=new_df.T.to_dict()\n",
    "l = [i for i in x.values()]\n",
    "l\n",
    "\n",
    "import json\n",
    "\n",
    "y = json.dumps(l)\n",
    "y"
   ]
  },
  {
   "cell_type": "code",
   "execution_count": null,
   "metadata": {},
   "outputs": [],
   "source": []
  }
 ],
 "metadata": {
  "kernelspec": {
   "display_name": "Python 3",
   "language": "python",
   "name": "python3"
  },
  "language_info": {
   "codemirror_mode": {
    "name": "ipython",
    "version": 3
   },
   "file_extension": ".py",
   "mimetype": "text/x-python",
   "name": "python",
   "nbconvert_exporter": "python",
   "pygments_lexer": "ipython3",
   "version": "3.6.8"
  }
 },
 "nbformat": 4,
 "nbformat_minor": 2
}
